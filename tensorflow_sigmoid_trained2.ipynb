{
  "nbformat": 4,
  "nbformat_minor": 0,
  "metadata": {
    "colab": {
      "name": "tensorflow_sig_trained2.ipynb",
      "version": "0.3.2",
      "provenance": [],
      "collapsed_sections": [],
      "include_colab_link": true
    },
    "kernelspec": {
      "name": "python3",
      "display_name": "Python 3"
    }
  },
  "cells": [
    {
      "cell_type": "markdown",
      "metadata": {
        "id": "view-in-github",
        "colab_type": "text"
      },
      "source": [
        "<a href=\"https://colab.research.google.com/github/lovelynrose/tensorflow/blob/master/tensorflow_sigmoid_trained2.ipynb\" target=\"_parent\"><img src=\"https://colab.research.google.com/assets/colab-badge.svg\" alt=\"Open In Colab\"/></a>"
      ]
    },
    {
      "cell_type": "markdown",
      "metadata": {
        "id": "ETzaCXJ-DHbG",
        "colab_type": "text"
      },
      "source": [
        "#Create a simple Perceptron : sigmoid(wx+b)"
      ]
    },
    {
      "cell_type": "code",
      "metadata": {
        "id": "jlQ5CIolDMk7",
        "colab_type": "code",
        "outputId": "be97350a-ddc2-4e9e-a47e-096e87df3cf6",
        "colab": {
          "base_uri": "https://localhost:8080/",
          "height": 34
        }
      },
      "source": [
        "import tensorflow as tf\n",
        "import numpy as np\n",
        "import tensorboardcolab as tb"
      ],
      "execution_count": 0,
      "outputs": [
        {
          "output_type": "stream",
          "text": [
            "Using TensorFlow backend.\n"
          ],
          "name": "stderr"
        }
      ]
    },
    {
      "cell_type": "markdown",
      "metadata": {
        "id": "QE_PPhPt7grO",
        "colab_type": "text"
      },
      "source": [
        "##Introducing Variables and placeholders\n",
        "*   Variables must be initialized whereas placeholders need not be\n",
        "*   Placeholders are used to pass the dataset\n",
        "\n"
      ]
    },
    {
      "cell_type": "code",
      "metadata": {
        "id": "4IkSMK6q7fIW",
        "colab_type": "code",
        "outputId": "4ff09f8d-8f2c-40a4-cc2e-30fef9d673b5",
        "colab": {
          "base_uri": "https://localhost:8080/",
          "height": 70
        }
      },
      "source": [
        "w = tf.Variable(initial_value=np.random.ranf(size=4),name='w',dtype=tf.float32)#initial_value must be given\n",
        "x = tf.placeholder(tf.float32,shape=(4),name='x')\n",
        "mult = tf.tensordot(w,x,1)\n",
        "b = tf.constant(1,dtype=tf.float32,name='b')\n",
        "add = tf.add(mult,b)\n",
        "sig = tf.sigmoid(add)\n",
        "print(w)\n",
        "print(x)\n",
        "print(mult)\n",
        "#Remember they should all be of the same dtype"
      ],
      "execution_count": 0,
      "outputs": [
        {
          "output_type": "stream",
          "text": [
            "<tf.Variable 'w:0' shape=(4,) dtype=float32_ref>\n",
            "Tensor(\"x:0\", shape=(4,), dtype=float32)\n",
            "Tensor(\"Tensordot:0\", shape=(), dtype=float32)\n"
          ],
          "name": "stdout"
        }
      ]
    },
    {
      "cell_type": "markdown",
      "metadata": {
        "id": "FX08xAIoIUhg",
        "colab_type": "text"
      },
      "source": [
        "###Expected output is 0"
      ]
    },
    {
      "cell_type": "code",
      "metadata": {
        "id": "gJSJUEVXhzv3",
        "colab_type": "code",
        "colab": {}
      },
      "source": [
        "actual_output=tf.constant(0,dtype=float)"
      ],
      "execution_count": 0,
      "outputs": []
    },
    {
      "cell_type": "code",
      "metadata": {
        "id": "PNitD-Y-SJ76",
        "colab_type": "code",
        "colab": {}
      },
      "source": [
        "error_val = tf.losses.mean_squared_error(labels=actual_output,predictions=sig)\n",
        "print(error_val)"
      ],
      "execution_count": 0,
      "outputs": []
    },
    {
      "cell_type": "code",
      "metadata": {
        "id": "d0VGe8UvUHpL",
        "colab_type": "code",
        "colab": {}
      },
      "source": [
        "opt = tf.train.AdamOptimizer(learning_rate=0.1).minimize(error_val)"
      ],
      "execution_count": 0,
      "outputs": []
    },
    {
      "cell_type": "markdown",
      "metadata": {
        "id": "EPlSjZ6cIjcj",
        "colab_type": "text"
      },
      "source": [
        "###Introducing Interactive Session"
      ]
    },
    {
      "cell_type": "code",
      "metadata": {
        "id": "2sUjGvbL-3WT",
        "colab_type": "code",
        "outputId": "73a0b753-020f-4b81-b414-3ed6eca0eb0c",
        "colab": {
          "base_uri": "https://localhost:8080/",
          "height": 72
        }
      },
      "source": [
        "ss = tf.InteractiveSession()"
      ],
      "execution_count": 0,
      "outputs": [
        {
          "output_type": "stream",
          "text": [
            "/usr/local/lib/python3.6/dist-packages/tensorflow/python/client/session.py:1735: UserWarning: An interactive session is already active. This can cause out-of-memory errors in some cases. You must explicitly call `InteractiveSession.close()` to release resources held by the other session(s).\n",
            "  warnings.warn('An interactive session is already active. This can '\n"
          ],
          "name": "stderr"
        }
      ]
    },
    {
      "cell_type": "markdown",
      "metadata": {
        "id": "--x3otRkNXU8",
        "colab_type": "text"
      },
      "source": [
        "###Variables must be initialized"
      ]
    },
    {
      "cell_type": "code",
      "metadata": {
        "id": "UJGeUAlwGE8s",
        "colab_type": "code",
        "colab": {}
      },
      "source": [
        "init = tf.global_variables_initializer()\n",
        "ss.run(init)"
      ],
      "execution_count": 0,
      "outputs": []
    },
    {
      "cell_type": "code",
      "metadata": {
        "id": "lw41IPxm_Z4R",
        "colab_type": "code",
        "outputId": "1920ecfc-e3fb-42d0-a99b-efe03f39bf73",
        "colab": {
          "base_uri": "https://localhost:8080/",
          "height": 34
        }
      },
      "source": [
        "predicted_output = ss.run(sig,feed_dict={x:[1,2,3.,4.]})#Placeholders must be initialized\n",
        "print(predicted_output)"
      ],
      "execution_count": 0,
      "outputs": [
        {
          "output_type": "stream",
          "text": [
            "0.99578273\n"
          ],
          "name": "stdout"
        }
      ]
    },
    {
      "cell_type": "code",
      "metadata": {
        "id": "ykeCZIUGUaLA",
        "colab_type": "code",
        "outputId": "9d72f755-ab5e-4ee0-e909-38e602f5e329",
        "colab": {
          "base_uri": "https://localhost:8080/",
          "height": 897
        }
      },
      "source": [
        "for epoch in range(0,50):\n",
        "  print(ss.run([opt,error_val,sig,actual_output],feed_dict={x:[1.,2.,3.,4.]}))"
      ],
      "execution_count": 0,
      "outputs": [
        {
          "output_type": "stream",
          "text": [
            "[None, 0.9915832, 0.99578273, 0.0]\n",
            "[None, 0.9773672, 0.98861885, 0.0]\n",
            "[None, 0.9439814, 0.97158706, 0.0]\n",
            "[None, 0.8730886, 0.9343921, 0.0]\n",
            "[None, 0.7389179, 0.85960335, 0.0]\n",
            "[None, 0.5264922, 0.7255978, 0.0]\n",
            "[None, 0.27733833, 0.5266292, 0.0]\n",
            "[None, 0.09568572, 0.3093311, 0.0]\n",
            "[None, 0.023416879, 0.15302575, 0.0]\n",
            "[None, 0.005201053, 0.07211833, 0.0]\n",
            "[None, 0.0012244309, 0.034991868, 0.0]\n",
            "[None, 0.00032181578, 0.017939225, 0.0]\n",
            "[None, 9.5233365e-05, 0.009758758, 0.0]\n",
            "[None, 3.1551757e-05, 0.005617095, 0.0]\n",
            "[None, 1.1592955e-05, 0.003404843, 0.0]\n",
            "[None, 4.677332e-06, 0.002162714, 0.0]\n",
            "[None, 2.0530679e-06, 0.001432853, 0.0]\n",
            "[None, 9.722271e-07, 0.0009860158, 0.0]\n",
            "[None, 4.929949e-07, 0.00070213596, 0.0]\n",
            "[None, 2.6591255e-07, 0.0005156671, 0.0]\n",
            "[None, 1.5166461e-07, 0.0003894414, 0.0]\n",
            "[None, 9.0988486e-08, 0.00030164298, 0.0]\n",
            "[None, 5.714692e-08, 0.00023905422, 0.0]\n",
            "[None, 3.7416715e-08, 0.00019343401, 0.0]\n",
            "[None, 2.5441993e-08, 0.00015950546, 0.0]\n",
            "[None, 1.7904332e-08, 0.00013380707, 0.0]\n",
            "[None, 1.2999949e-08, 0.00011401732, 0.0]\n",
            "[None, 9.711457e-09, 9.854673e-05, 0.0]\n",
            "[None, 7.445292e-09, 8.6286105e-05, 0.0]\n",
            "[None, 5.844327e-09, 7.6448196e-05, 0.0]\n",
            "[None, 4.6874065e-09, 6.846464e-05, 0.0]\n",
            "[None, 3.8339745e-09, 6.19191e-05, 0.0]\n",
            "[None, 3.1925098e-09, 5.65023e-05, 0.0]\n",
            "[None, 2.7020666e-09, 5.1981406e-05, 0.0]\n",
            "[None, 2.3212239e-09, 4.817908e-05, 0.0]\n",
            "[None, 2.0212754e-09, 4.4958597e-05, 0.0]\n",
            "[None, 1.7819763e-09, 4.221346e-05, 0.0]\n",
            "[None, 1.5888166e-09, 3.9859962e-05, 0.0]\n",
            "[None, 1.4312264e-09, 3.7831553e-05, 0.0]\n",
            "[None, 1.301405e-09, 3.607499e-05, 0.0]\n",
            "[None, 1.1935091e-09, 3.45472e-05, 0.0]\n",
            "[None, 1.1031155e-09, 3.3213182e-05, 0.0]\n",
            "[None, 1.0268255e-09, 3.2044118e-05, 0.0]\n",
            "[None, 9.620118e-10, 3.1016316e-05, 0.0]\n",
            "[None, 9.066148e-10, 3.0110044e-05, 0.0]\n",
            "[None, 8.5900576e-10, 2.93088e-05, 0.0]\n",
            "[None, 8.1788504e-10, 2.859869e-05, 0.0]\n",
            "[None, 7.8220735e-10, 2.796797e-05, 0.0]\n",
            "[None, 7.5112533e-10, 2.7406666e-05, 0.0]\n",
            "[None, 7.2394674e-10, 2.6906258e-05, 0.0]\n"
          ],
          "name": "stdout"
        }
      ]
    },
    {
      "cell_type": "code",
      "metadata": {
        "id": "tnbEmoMWNecA",
        "colab_type": "code",
        "outputId": "e712abd6-63ed-4b2e-8be9-e07c1c897ae2",
        "colab": {
          "base_uri": "https://localhost:8080/",
          "height": 125
        }
      },
      "source": [
        "tfb = tb.TensorBoardColab() #Must be in same cell\n",
        "writer = tfb.get_writer()\n",
        "writer.add_graph(tf.get_default_graph()) # add the graph \n",
        "writer.flush()"
      ],
      "execution_count": 0,
      "outputs": [
        {
          "output_type": "stream",
          "text": [
            "Wait for 8 seconds...\n"
          ],
          "name": "stdout"
        },
        {
          "output_type": "stream",
          "text": [
            "W0807 12:59:26.028047 140579414763392 deprecation_wrapper.py:119] From /usr/local/lib/python3.6/dist-packages/tensorboardcolab/core.py:49: The name tf.summary.FileWriter is deprecated. Please use tf.compat.v1.summary.FileWriter instead.\n",
            "\n"
          ],
          "name": "stderr"
        },
        {
          "output_type": "stream",
          "text": [
            "TensorBoard link:\n",
            "https://ff49f43e.ngrok.io\n"
          ],
          "name": "stdout"
        }
      ]
    },
    {
      "cell_type": "code",
      "metadata": {
        "id": "ktUBOvXfNfIX",
        "colab_type": "code",
        "colab": {}
      },
      "source": [
        ""
      ],
      "execution_count": 0,
      "outputs": []
    }
  ]
}
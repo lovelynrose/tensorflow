{
  "nbformat": 4,
  "nbformat_minor": 0,
  "metadata": {
    "colab": {
      "name": "tensor_sigmoidHL4.ipynb",
      "version": "0.3.2",
      "provenance": [],
      "include_colab_link": true
    },
    "kernelspec": {
      "name": "python3",
      "display_name": "Python 3"
    },
    "accelerator": "GPU"
  },
  "cells": [
    {
      "cell_type": "markdown",
      "metadata": {
        "id": "view-in-github",
        "colab_type": "text"
      },
      "source": [
        "<a href=\"https://colab.research.google.com/github/lovelynrose/tensorflow/blob/master/tensor_sigmoidHL4.ipynb\" target=\"_parent\"><img src=\"https://colab.research.google.com/assets/colab-badge.svg\" alt=\"Open In Colab\"/></a>"
      ]
    },
    {
      "cell_type": "markdown",
      "metadata": {
        "id": "e8USVKKdTNoi",
        "colab_type": "text"
      },
      "source": [
        "#Create 2 layer perceptron \n",
        "\n",
        "*   4 input features\n",
        "*   3 output nodes\n",
        "*  1 hidden layer with 5 nodes\n",
        "*   2 samples\n",
        "\n"
      ]
    },
    {
      "cell_type": "code",
      "metadata": {
        "id": "P-bKhBr9VDrf",
        "colab_type": "code",
        "colab": {}
      },
      "source": [
        "import tensorflow as tf\n",
        "import numpy as np\n",
        "import tensorboardcolab as tb"
      ],
      "execution_count": 0,
      "outputs": []
    },
    {
      "cell_type": "code",
      "metadata": {
        "id": "fuTv9gwzloNL",
        "colab_type": "code",
        "colab": {}
      },
      "source": [
        "n_features = 4\n",
        "n_hnode = 5\n",
        "n_node = 3\n",
        "n_samples = 2"
      ],
      "execution_count": 0,
      "outputs": []
    },
    {
      "cell_type": "markdown",
      "metadata": {
        "id": "gdXu0j_UTsag",
        "colab_type": "text"
      },
      "source": [
        "###Weights\n",
        "\n",
        "*   From input layer to hidden layer: no. of features x no. of hidden nodes\n",
        "*   From hidden layer to output layer : no. of hidden nodes x no. of output nodes\n",
        "\n"
      ]
    },
    {
      "cell_type": "code",
      "metadata": {
        "id": "Tx_UmYogVPvW",
        "colab_type": "code",
        "colab": {}
      },
      "source": [
        "w = {'hidden': tf.Variable(initial_value=np.random.random([n_features,n_hnode]),name='weight_hidden'),\n",
        "     'output': tf.Variable(initial_value=np.random.random([n_hnode,n_node]),name='weight_output')\n",
        "    }"
      ],
      "execution_count": 0,
      "outputs": []
    },
    {
      "cell_type": "markdown",
      "metadata": {
        "id": "wvK59iSzVoC1",
        "colab_type": "text"
      },
      "source": [
        "###Bias\n",
        "\n",
        "*   In hidden nodes\n",
        "*   In output nodes\n",
        "\n"
      ]
    },
    {
      "cell_type": "code",
      "metadata": {
        "id": "Z-ySfRq_lQaY",
        "colab_type": "code",
        "outputId": "cf05d523-2144-4cc5-ef20-f18d2033fecc",
        "colab": {
          "base_uri": "https://localhost:8080/",
          "height": 52
        }
      },
      "source": [
        "b = {'hidden':tf.Variable(initial_value=np.ones([n_hnode]),name='bias_hidden'),\n",
        "     'output':tf.Variable(initial_value=np.ones([n_node]),name='bias_output')\n",
        "    }\n",
        "b"
      ],
      "execution_count": 0,
      "outputs": [
        {
          "output_type": "execute_result",
          "data": {
            "text/plain": [
              "{'hidden': <tf.Variable 'bias_hidden:0' shape=(5,) dtype=float64_ref>,\n",
              " 'output': <tf.Variable 'bias_output:0' shape=(3,) dtype=float64_ref>}"
            ]
          },
          "metadata": {
            "tags": []
          },
          "execution_count": 4
        }
      ]
    },
    {
      "cell_type": "markdown",
      "metadata": {
        "id": "9u9WDCJ5Vxbx",
        "colab_type": "text"
      },
      "source": [
        "###Input values are given\n",
        "\n",
        "*  Decide number of samples at runtime : So give None\n",
        "*  x : to give input\n",
        "*  y : to give actual output to check accuracy\n",
        "\n"
      ]
    },
    {
      "cell_type": "code",
      "metadata": {
        "id": "L5lPIPztl9qC",
        "colab_type": "code",
        "outputId": "3ca7385b-c652-4769-8199-e705d73ccb0d",
        "colab": {
          "base_uri": "https://localhost:8080/",
          "height": 34
        }
      },
      "source": [
        "x = tf.placeholder(tf.float64,shape=(None,n_features),name='input')\n",
        "y = tf.placeholder(tf.float64,shape=(None,n_node),name='output')\n",
        "x\n",
        "y"
      ],
      "execution_count": 0,
      "outputs": [
        {
          "output_type": "execute_result",
          "data": {
            "text/plain": [
              "<tf.Tensor 'output:0' shape=(?, 3) dtype=float64>"
            ]
          },
          "metadata": {
            "tags": []
          },
          "execution_count": 5
        }
      ]
    },
    {
      "cell_type": "code",
      "metadata": {
        "id": "JFz_NZQtfmrP",
        "colab_type": "code",
        "colab": {}
      },
      "source": [
        "hidden_layer = tf.add(tf.matmul(x, w['hidden']), b['hidden'])\n",
        "hidden_layer = tf.nn.relu(hidden_layer)\n",
        "\n",
        "output_layer = tf.add(tf.matmul(hidden_layer, w['output']),b['output'])\n",
        "output_layer=tf.nn.relu(output_layer)"
      ],
      "execution_count": 0,
      "outputs": []
    },
    {
      "cell_type": "code",
      "metadata": {
        "id": "QC72ZqNVphVg",
        "colab_type": "code",
        "outputId": "0949a8b8-20f6-40d7-fdb9-ae3a36c4d428",
        "colab": {
          "base_uri": "https://localhost:8080/",
          "height": 125
        }
      },
      "source": [
        "cost = tf.losses.mean_squared_error(y,output_layer)\n",
        "print(cost)"
      ],
      "execution_count": 0,
      "outputs": [
        {
          "output_type": "stream",
          "text": [
            "WARNING: Logging before flag parsing goes to stderr.\n",
            "W0807 13:17:22.553803 139986639239040 deprecation.py:323] From /usr/local/lib/python3.6/dist-packages/tensorflow/python/ops/losses/losses_impl.py:121: add_dispatch_support.<locals>.wrapper (from tensorflow.python.ops.array_ops) is deprecated and will be removed in a future version.\n",
            "Instructions for updating:\n",
            "Use tf.where in 2.0, which has the same broadcast rule as np.where\n"
          ],
          "name": "stderr"
        },
        {
          "output_type": "stream",
          "text": [
            "Tensor(\"mean_squared_error/value:0\", shape=(), dtype=float32)\n"
          ],
          "name": "stdout"
        }
      ]
    },
    {
      "cell_type": "code",
      "metadata": {
        "id": "rHRgg60rgcfw",
        "colab_type": "code",
        "colab": {}
      },
      "source": [
        "opt = tf.train.GradientDescentOptimizer(0.01).minimize(cost)"
      ],
      "execution_count": 0,
      "outputs": []
    },
    {
      "cell_type": "code",
      "metadata": {
        "id": "WtF304X8PASg",
        "colab_type": "code",
        "colab": {}
      },
      "source": [
        "acc,acc_op = tf.metrics.accuracy(labels=tf.math.argmax(y,1),predictions=tf.math.argmax(output_layer,1))"
      ],
      "execution_count": 0,
      "outputs": []
    },
    {
      "cell_type": "code",
      "metadata": {
        "id": "pbWIHgt9mB9w",
        "colab_type": "code",
        "outputId": "6165dbed-a96d-4189-ffc9-a3b843f8be5f",
        "colab": {
          "base_uri": "https://localhost:8080/",
          "height": 1000
        }
      },
      "source": [
        "with tf.Session() as sess:\n",
        "  init = tf.global_variables_initializer()\n",
        "  init_l = tf.local_variables_initializer()\n",
        "  sess.run(init)\n",
        "  sess.run(init_l)\n",
        "  for epoch in range(0,100):\n",
        "    out = sess.run([opt,cost],feed_dict={x:np.random.random([2,n_features]),y:[[.1,.2,.3],[.03,.07,.02]]})\n",
        "    #print(out)\n",
        "    print(sess.run([acc,acc_op],feed_dict={x:np.random.random([2,n_features]),y:[[.1,.2,.3],[.03,.07,.02]]}))\n",
        "  "
      ],
      "execution_count": 0,
      "outputs": [
        {
          "output_type": "stream",
          "text": [
            "[0.0, 0.5]\n",
            "[0.5, 0.5]\n",
            "[0.5, 0.5]\n",
            "[0.5, 0.5]\n",
            "[0.5, 0.5]\n",
            "[0.5, 0.5]\n",
            "[0.5, 0.5]\n",
            "[0.5, 0.5]\n",
            "[0.5, 0.5]\n",
            "[0.5, 0.5]\n",
            "[0.5, 0.5]\n",
            "[0.5, 0.5]\n",
            "[0.5, 0.5]\n",
            "[0.5, 0.5]\n",
            "[0.5, 0.5]\n",
            "[0.5, 0.5]\n",
            "[0.5, 0.5]\n",
            "[0.5, 0.5]\n",
            "[0.5, 0.5]\n",
            "[0.5263158, 0.5]\n",
            "[0.5, 0.5]\n",
            "[0.5, 0.5]\n",
            "[0.5, 0.5]\n",
            "[0.5, 0.5]\n",
            "[0.5, 0.5]\n",
            "[0.5, 0.5]\n",
            "[0.5, 0.5]\n",
            "[0.5, 0.5]\n",
            "[0.5, 0.4827586]\n",
            "[0.4827586, 0.48333332]\n",
            "[0.48333332, 0.48387095]\n",
            "[0.48387095, 0.484375]\n",
            "[0.484375, 0.46969697]\n",
            "[0.46969697, 0.47058824]\n",
            "[0.47058824, 0.47142857]\n",
            "[0.47142857, 0.4722222]\n",
            "[0.4722222, 0.45945945]\n",
            "[0.45945945, 0.46052632]\n",
            "[0.46052632, 0.46153846]\n",
            "[0.46153846, 0.4625]\n",
            "[0.4625, 0.46341464]\n",
            "[0.46341464, 0.45238096]\n",
            "[0.45238096, 0.44186047]\n",
            "[0.44186047, 0.4431818]\n",
            "[0.4431818, 0.44444445]\n",
            "[0.44444445, 0.4456522]\n",
            "[0.4456522, 0.4574468]\n",
            "[0.4574468, 0.44791666]\n",
            "[0.44791666, 0.4387755]\n",
            "[0.4387755, 0.43]\n",
            "[0.43, 0.43137255]\n",
            "[0.43137255, 0.43269232]\n",
            "[0.43269232, 0.4245283]\n",
            "[0.4245283, 0.42592594]\n",
            "[0.42592594, 0.42727274]\n",
            "[0.42727274, 0.42857143]\n",
            "[0.42857143, 0.42982456]\n",
            "[0.42982456, 0.4224138]\n",
            "[0.4224138, 0.42372882]\n",
            "[0.42372882, 0.41666666]\n",
            "[0.41666666, 0.4180328]\n",
            "[0.4180328, 0.41935483]\n",
            "[0.41935483, 0.42063493]\n",
            "[0.42063493, 0.421875]\n",
            "[0.421875, 0.42307693]\n",
            "[0.42307693, 0.42424244]\n",
            "[0.42424244, 0.41791046]\n",
            "[0.41791046, 0.4117647]\n",
            "[0.4117647, 0.41304347]\n",
            "[0.41304347, 0.40714285]\n",
            "[0.40714285, 0.4084507]\n",
            "[0.4084507, 0.4027778]\n",
            "[0.4027778, 0.4041096]\n",
            "[0.4041096, 0.4054054]\n",
            "[0.4054054, 0.4]\n",
            "[0.4, 0.39473686]\n",
            "[0.39473686, 0.38961038]\n",
            "[0.38961038, 0.3974359]\n",
            "[0.3974359, 0.39240506]\n",
            "[0.39240506, 0.39375]\n",
            "[0.39375, 0.3888889]\n",
            "[0.3888889, 0.3902439]\n",
            "[0.3902439, 0.39156628]\n",
            "[0.39156628, 0.39285713]\n",
            "[0.39285713, 0.3882353]\n",
            "[0.3882353, 0.3895349]\n",
            "[0.3895349, 0.39655173]\n",
            "[0.39655173, 0.39772728]\n",
            "[0.39772728, 0.40449437]\n",
            "[0.40449437, 0.4]\n",
            "[0.4, 0.4010989]\n",
            "[0.4010989, 0.4021739]\n",
            "[0.4021739, 0.39784947]\n",
            "[0.39784947, 0.39893618]\n",
            "[0.39893618, 0.4]\n",
            "[0.4, 0.40104166]\n",
            "[0.40104166, 0.40206185]\n",
            "[0.40206185, 0.40816328]\n",
            "[0.40816328, 0.4040404]\n",
            "[0.4040404, 0.405]\n"
          ],
          "name": "stdout"
        }
      ]
    },
    {
      "cell_type": "markdown",
      "metadata": {
        "id": "bJQnksyDPfEj",
        "colab_type": "text"
      },
      "source": [
        "###Remember there is no pattern to learn"
      ]
    },
    {
      "cell_type": "code",
      "metadata": {
        "id": "-qEazQScnugh",
        "colab_type": "code",
        "outputId": "ddcb8a61-8c7e-429f-ff1b-ab50ab71d325",
        "colab": {
          "base_uri": "https://localhost:8080/",
          "height": 125
        }
      },
      "source": [
        "tfb = tb.TensorBoardColab() #Must be in same cell\n",
        "writer = tfb.get_writer()\n",
        "writer.add_graph(tf.get_default_graph()) # add the graph \n",
        "writer.flush()"
      ],
      "execution_count": 0,
      "outputs": [
        {
          "output_type": "stream",
          "text": [
            "Wait for 8 seconds...\n"
          ],
          "name": "stdout"
        },
        {
          "output_type": "stream",
          "text": [
            "W0807 13:21:40.447016 139986639239040 deprecation_wrapper.py:119] From /usr/local/lib/python3.6/dist-packages/tensorboardcolab/core.py:49: The name tf.summary.FileWriter is deprecated. Please use tf.compat.v1.summary.FileWriter instead.\n",
            "\n"
          ],
          "name": "stderr"
        },
        {
          "output_type": "stream",
          "text": [
            "TensorBoard link:\n",
            "https://00fe7e95.ngrok.io\n"
          ],
          "name": "stdout"
        }
      ]
    },
    {
      "cell_type": "code",
      "metadata": {
        "id": "Vx_Q9T5YPciw",
        "colab_type": "code",
        "colab": {}
      },
      "source": [
        ""
      ],
      "execution_count": 0,
      "outputs": []
    }
  ]
}
{
  "nbformat": 4,
  "nbformat_minor": 0,
  "metadata": {
    "colab": {
      "name": "tensorflow1.ipynb",
      "version": "0.3.2",
      "provenance": [],
      "include_colab_link": true
    },
    "kernelspec": {
      "name": "python3",
      "display_name": "Python 3"
    }
  },
  "cells": [
    {
      "cell_type": "markdown",
      "metadata": {
        "id": "view-in-github",
        "colab_type": "text"
      },
      "source": [
        "<a href=\"https://colab.research.google.com/github/lovelynrose/tensorflow/blob/master/tensorflow1.ipynb\" target=\"_parent\"><img src=\"https://colab.research.google.com/assets/colab-badge.svg\" alt=\"Open In Colab\"/></a>"
      ]
    },
    {
      "cell_type": "markdown",
      "metadata": {
        "id": "IxEumas7CdoV",
        "colab_type": "text"
      },
      "source": [
        "#Gentle introduction to tensorflow "
      ]
    },
    {
      "cell_type": "code",
      "metadata": {
        "id": "jlQ5CIolDMk7",
        "colab_type": "code",
        "outputId": "588de527-fe1e-4661-9d09-fef4d4de2780",
        "colab": {
          "base_uri": "https://localhost:8080/",
          "height": 35
        }
      },
      "source": [
        "import tensorflow as tf\n",
        "import numpy as np\n",
        "import tensorboardcolab as tb"
      ],
      "execution_count": 0,
      "outputs": [
        {
          "output_type": "stream",
          "text": [
            "Using TensorFlow backend.\n"
          ],
          "name": "stderr"
        }
      ]
    },
    {
      "cell_type": "markdown",
      "metadata": {
        "id": "0QfOpz2bDhOB",
        "colab_type": "text"
      },
      "source": [
        "###Check the version of tensorflow you are working in"
      ]
    },
    {
      "cell_type": "code",
      "metadata": {
        "id": "DiUpuZDp07aW",
        "colab_type": "code",
        "outputId": "a368b8cf-376d-44b1-ed4c-1532154ea238",
        "colab": {
          "base_uri": "https://localhost:8080/",
          "height": 34
        }
      },
      "source": [
        "tf.__v"
      ],
      "execution_count": 0,
      "outputs": [
        {
          "output_type": "execute_result",
          "data": {
            "text/plain": [
              "'1.14.0'"
            ]
          },
          "metadata": {
            "tags": []
          },
          "execution_count": 2
        }
      ]
    },
    {
      "cell_type": "code",
      "metadata": {
        "id": "Jw5Ov97t1mtm",
        "colab_type": "code",
        "outputId": "8eb8ce37-01aa-480d-aa5c-3674cb2140d9",
        "colab": {
          "base_uri": "https://localhost:8080/",
          "height": 35
        }
      },
      "source": [
        "tf.__version__"
      ],
      "execution_count": 0,
      "outputs": [
        {
          "output_type": "execute_result",
          "data": {
            "text/plain": [
              "'1.14.0'"
            ]
          },
          "metadata": {
            "tags": []
          },
          "execution_count": 2
        }
      ]
    },
    {
      "cell_type": "code",
      "metadata": {
        "id": "CmNxBe5e3S8r",
        "colab_type": "code",
        "colab": {}
      },
      "source": [
        "var1=tf.constant(3)\n",
        "var2=tf.constant(2)\n"
      ],
      "execution_count": 0,
      "outputs": []
    },
    {
      "cell_type": "code",
      "metadata": {
        "id": "YgSg5zGo4FcL",
        "colab_type": "code",
        "outputId": "286284f5-8ef6-4246-d94c-c98951dbc7e3",
        "colab": {
          "base_uri": "https://localhost:8080/",
          "height": 35
        }
      },
      "source": [
        "print(var1)"
      ],
      "execution_count": 0,
      "outputs": [
        {
          "output_type": "stream",
          "text": [
            "Tensor(\"Const:0\", shape=(), dtype=int32)\n"
          ],
          "name": "stdout"
        }
      ]
    },
    {
      "cell_type": "markdown",
      "metadata": {
        "id": "Gd8B77bEtwWK",
        "colab_type": "text"
      },
      "source": [
        "###Create a simple tensor which flows from a node representing constant"
      ]
    },
    {
      "cell_type": "code",
      "metadata": {
        "id": "OZNeq5GCtvXA",
        "colab_type": "code",
        "outputId": "039a6562-571e-4cf8-ccef-ba583165d184",
        "colab": {
          "base_uri": "https://localhost:8080/",
          "height": 87
        }
      },
      "source": [
        "tensor1 = tf.constant(3)\n",
        "print(tensor1)\n",
        "tensor2 = tf.constant([1,2,3])\n",
        "print(tensor2)\n",
        "tensor3 = tf.constant([[1,2,3],[4,5,6]])\n",
        "print(tensor3)\n",
        "tensor4 = tf.constant(np.arange(24),shape=(2,3,4),dtype=tf.float32)\n",
        "np.rand.\n",
        "print(tensor4)"
      ],
      "execution_count": 0,
      "outputs": [
        {
          "output_type": "stream",
          "text": [
            "Tensor(\"Const:0\", shape=(), dtype=int32)\n",
            "Tensor(\"Const_1:0\", shape=(3,), dtype=int32)\n",
            "Tensor(\"Const_2:0\", shape=(2, 3), dtype=int32)\n",
            "Tensor(\"Const_3:0\", shape=(2, 3, 4), dtype=float32)\n"
          ],
          "name": "stdout"
        }
      ]
    },
    {
      "cell_type": "markdown",
      "metadata": {
        "id": "KCzq3MnBz5sK",
        "colab_type": "text"
      },
      "source": [
        "###Do it yourself\n",
        "Create a tensor constant with 3 rows and 5 columns with the values from 5 to 100 in multiples of 5"
      ]
    },
    {
      "cell_type": "code",
      "metadata": {
        "id": "JlNoY9mguq6s",
        "colab_type": "code",
        "outputId": "de924592-6d12-4db8-dc73-e2604aa3ab76",
        "colab": {
          "base_uri": "https://localhost:8080/",
          "height": 34
        }
      },
      "source": [
        "tensor_test = tf.constant(np.arange(5,75,5),shape=(3,5))\n",
        "print(tensor_test)"
      ],
      "execution_count": 0,
      "outputs": [
        {
          "output_type": "stream",
          "text": [
            "Tensor(\"Const_4:0\", shape=(3, 5), dtype=int64)\n"
          ],
          "name": "stdout"
        }
      ]
    },
    {
      "cell_type": "code",
      "metadata": {
        "id": "JqZZMSNR0IUx",
        "colab_type": "code",
        "outputId": "c2d61c32-a051-4ee4-daee-5f6ada070d2b",
        "colab": {
          "base_uri": "https://localhost:8080/",
          "height": 70
        }
      },
      "source": [
        "print(tensor1.name)\n",
        "print(tensor1.shape)\n",
        "print(tensor1.dtype)"
      ],
      "execution_count": 0,
      "outputs": [
        {
          "output_type": "stream",
          "text": [
            "Const:0\n",
            "()\n",
            "<dtype: 'int32'>\n"
          ],
          "name": "stdout"
        }
      ]
    },
    {
      "cell_type": "markdown",
      "metadata": {
        "id": "wVKGrJ_rDWTz",
        "colab_type": "text"
      },
      "source": [
        "###Input v1 = [1,2], v2 = [5,6] and output the addition of the 2 vectors as [6,8]"
      ]
    },
    {
      "cell_type": "code",
      "metadata": {
        "id": "BTH2SNjCU0VG",
        "colab_type": "code",
        "outputId": "5cb0198d-f03a-4cf1-86b5-b04a4572461c",
        "colab": {
          "base_uri": "https://localhost:8080/",
          "height": 52
        }
      },
      "source": [
        "v1 = tf.constant([1,2])\n",
        "v2 = tf.constant([5,6])\n",
        "print(v1)\n",
        "print(v2)"
      ],
      "execution_count": 0,
      "outputs": [
        {
          "output_type": "stream",
          "text": [
            "Tensor(\"Const_5:0\", shape=(2,), dtype=int32)\n",
            "Tensor(\"Const_6:0\", shape=(2,), dtype=int32)\n"
          ],
          "name": "stdout"
        }
      ]
    },
    {
      "cell_type": "code",
      "metadata": {
        "id": "6rtMcnj-VKTj",
        "colab_type": "code",
        "outputId": "5cfa4540-f51d-4da9-da97-688ffde09e62",
        "colab": {
          "base_uri": "https://localhost:8080/",
          "height": 34
        }
      },
      "source": [
        "op = tf.add(v1,v2)\n",
        "print(op)"
      ],
      "execution_count": 0,
      "outputs": [
        {
          "output_type": "stream",
          "text": [
            "Tensor(\"Add:0\", shape=(2,), dtype=int32)\n"
          ],
          "name": "stdout"
        }
      ]
    },
    {
      "cell_type": "markdown",
      "metadata": {
        "id": "-kGuV40QVkdo",
        "colab_type": "text"
      },
      "source": [
        "###A graph has been created. But no computation will be done"
      ]
    },
    {
      "cell_type": "markdown",
      "metadata": {
        "id": "87icnGNtWDpi",
        "colab_type": "text"
      },
      "source": [
        "##Sessions\n",
        "###Executes graph, Allocates resources\n"
      ]
    },
    {
      "cell_type": "code",
      "metadata": {
        "id": "UMq3gga7WZ3z",
        "colab_type": "code",
        "colab": {}
      },
      "source": [
        "with tf.Session() as sess:\n",
        "  v1_val = sess.run(v1)\n",
        "  v2_val = sess.run(v2)\n",
        "  val_op = sess.run(op)"
      ],
      "execution_count": 0,
      "outputs": []
    },
    {
      "cell_type": "code",
      "metadata": {
        "id": "bR7v6jPT6tY7",
        "colab_type": "code",
        "colab": {}
      },
      "source": [
        "print()"
      ],
      "execution_count": 0,
      "outputs": []
    },
    {
      "cell_type": "markdown",
      "metadata": {
        "id": "4cUpy7NS-47e",
        "colab_type": "text"
      },
      "source": [
        "# hello"
      ]
    },
    {
      "cell_type": "code",
      "metadata": {
        "id": "qiz2Vw1hWt7t",
        "colab_type": "code",
        "outputId": "f89b9979-0d3d-4c86-8eea-5670767fc577",
        "colab": {
          "base_uri": "https://localhost:8080/",
          "height": 34
        }
      },
      "source": [
        "print(\"v1 = \",v1_val,\", v2 = \",v2_val,\", Addition = \",val_op)"
      ],
      "execution_count": 0,
      "outputs": [
        {
          "output_type": "stream",
          "text": [
            "v1 =  [1 2] , v2 =  [5 6] , Addition =  [6 8]\n"
          ],
          "name": "stdout"
        }
      ]
    },
    {
      "cell_type": "code",
      "metadata": {
        "id": "ISXiOUp7B9uC",
        "colab_type": "code",
        "outputId": "8b59b2ca-44cd-40ad-c081-6575aa741631",
        "colab": {
          "base_uri": "https://localhost:8080/",
          "height": 142
        }
      },
      "source": [
        "tfb = tb.TensorBoardColab() #Must be in same cell\n",
        "writer = tfb.get_writer()\n",
        "writer.add_graph(tf.get_default_graph()) # add the graph \n",
        "writer.flush()"
      ],
      "execution_count": 0,
      "outputs": [
        {
          "output_type": "stream",
          "text": [
            "Wait for 8 seconds...\n"
          ],
          "name": "stdout"
        },
        {
          "output_type": "stream",
          "text": [
            "WARNING: Logging before flag parsing goes to stderr.\n",
            "W0807 12:48:27.755601 140221121890176 deprecation_wrapper.py:119] From /usr/local/lib/python3.6/dist-packages/tensorboardcolab/core.py:49: The name tf.summary.FileWriter is deprecated. Please use tf.compat.v1.summary.FileWriter instead.\n",
            "\n"
          ],
          "name": "stderr"
        },
        {
          "output_type": "stream",
          "text": [
            "TensorBoard link:\n",
            "https://ff49f43e.ngrok.io\n"
          ],
          "name": "stdout"
        }
      ]
    },
    {
      "cell_type": "code",
      "metadata": {
        "id": "hJp7EIiFCrK2",
        "colab_type": "code",
        "colab": {}
      },
      "source": [
        ""
      ],
      "execution_count": 0,
      "outputs": []
    }
  ]
}